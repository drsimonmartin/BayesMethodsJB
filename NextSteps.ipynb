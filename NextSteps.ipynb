{
 "cells": [
  {
   "cell_type": "markdown",
   "id": "c8f1441e-030b-4b6b-9a9c-c866fb4a0816",
   "metadata": {},
   "source": [
    "# Next steps in Bayesian methods\n",
    "Hopefully this short introduction has inspired you to find out more about Bayesian methods. Here are some resources that will help you with this. If you find any others that you think other will find useful, then please let me know and I will check them out.\n",
    "\n",
    "## Books \n",
    "The books by Ben Lambert{cite}`lambertStudentGuideBayesian2018` and Richard McElreath {cite}`mcelreathStatisticalRethinkingBayesian2020` are excellent resources.\n",
    "\n",
    "## YouTube\n",
    "Richard McElreath has an [excellent set of videos](https://www.youtube.com/@rmcelreath) that cover the material in his book. I can thoroughly recommend these. \n",
    "\n",
    "## Podcasts\n",
    "The podcast [Learning Bayesian Statistics](https://learnbayesstats.com)features discussions with Bayesian practitioners from around the world and from industry as well academia so you get a good feel for the range of applications (super-massive black holes to insurance modelling and a whole lot more...)\n",
    "\n",
    "## Bibliography\n",
    "```{bibliography}\n",
    ":filter: docname in docnames\n",
    "```\n",
    "\n"
   ]
  },
  {
   "cell_type": "code",
   "execution_count": null,
   "id": "802df044-f14b-4ae3-ba5c-08eafdb6076d",
   "metadata": {},
   "outputs": [],
   "source": []
  }
 ],
 "metadata": {
  "kernelspec": {
   "display_name": "Python 3 (ipykernel)",
   "language": "python",
   "name": "python3"
  },
  "language_info": {
   "codemirror_mode": {
    "name": "ipython",
    "version": 3
   },
   "file_extension": ".py",
   "mimetype": "text/x-python",
   "name": "python",
   "nbconvert_exporter": "python",
   "pygments_lexer": "ipython3",
   "version": "3.11.6"
  }
 },
 "nbformat": 4,
 "nbformat_minor": 5
}
