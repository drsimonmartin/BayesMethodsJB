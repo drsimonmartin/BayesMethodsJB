{
 "cells": [
  {
   "cell_type": "markdown",
   "id": "5a3bc02e",
   "metadata": {},
   "source": [
    "# Getting Bayes Done\n",
    "\n",
    "* Outline need for complicated models + complicated parameter estimates\n",
    "* the curse of dimensionality pt 1: integrating is complicated with many dimensions (parameters)\n",
    "    * Brief intro to MC methods\n",
    "* the curse of dimensionality pt 2: in space no-one can hear your scream\n",
    "    * Brief intro to MCMC methods, mention importance sampling\n",
    " \n",
    "## Introduction\n",
    "\n",
    "So far the problems looked at in these notes have been fairly abstract in order to show the fundemental  principles of bayesian methods. This chapter explores how to move to calculations for realistic data. There is a reasonable amount that can be done via algebraic methods. However, the maths rapidly gets reasonably complicated and is only tractable for a limited number of cases (data models). Historically this is one of the things that has held back the development of Bayesian methods. Since the 1990s a range of computer based methods have been developed that from the users' point of view sidestep much of the complex mathematics. This chapter will show how these can be used.\n",
    "\n",
    "For low dimensional problems the calculations could be done with Excel–calculate the product of the prior and likelihood distributions. The book `Think Bayes` {cite}`downeyThinkBayes2nd2021` demonstrates this approach. However, as the dimensionality (number of parameters) increases this becomes impossible[^Really] and other methods are required. These other methods are most commonly Monte Carlo methods and it is these that we will concentrate on. Specifically we will use the PyMC library a modern python based system allows probabalistic models to be built in a straightforward way using python. \n",
    "\n",
    "[^Really]: It doesn't take long to get to a model that it would take the age of the universe to explore.\n",
    "\n",
    "## Monte Carlo or bust\n",
    "\n",
    "### The curse of dimensionality\n",
    "\n",
    "## A first MCMC model\n",
    "\n",
    "\n",
    "## Bibliography \n",
    "\n",
    "```{bibliography}\n",
    ":filter: docname in docnames\n",
    "\n",
    "```"
   ]
  }
 ],
 "metadata": {
  "jupytext": {
   "formats": "md:myst",
   "text_representation": {
    "extension": ".md",
    "format_name": "myst",
    "format_version": 0.13,
    "jupytext_version": "1.11.5"
   }
  },
  "kernelspec": {
   "display_name": "Python 3",
   "language": "python",
   "name": "python3"
  },
  "language_info": {
   "codemirror_mode": {
    "name": "ipython",
    "version": 3
   },
   "file_extension": ".py",
   "mimetype": "text/x-python",
   "name": "python",
   "nbconvert_exporter": "python",
   "pygments_lexer": "ipython3",
   "version": "3.11.6"
  },
  "source_map": [
   13
  ]
 },
 "nbformat": 4,
 "nbformat_minor": 5
}