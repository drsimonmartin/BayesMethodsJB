{
 "cells": [
  {
   "cell_type": "markdown",
   "id": "70feecb4",
   "metadata": {},
   "source": [
    "# Real world Bayesian Parameter Estimation\n",
    "\n",
    "## Why sampling methods are used for Bayesian analysis\n",
    "\n",
    "Recap Bayes theorem: $$P(\\theta|data,I)=\\frac{P(data|\\theta,I)P(\\theta|I)}{P(data|I)}$$\n",
    "\n",
    "where $\\theta$ are the parameters of a model, $data$ are the measurements/results, and $I$ is the information we know about the system.\n",
    "\n",
    "\n",
    "\n",
    "\n",
    "Typically we want to know how well a model fits the data – what sort of spread of values fits the data in a credible way, an idea of the optimum parameters, etc.? To get these results we need the posterior probability distribution"
   ]
  }
 ],
 "metadata": {
  "jupytext": {
   "formats": "md:myst",
   "text_representation": {
    "extension": ".md",
    "format_name": "myst",
    "format_version": 0.13,
    "jupytext_version": "1.11.5"
   }
  },
  "kernelspec": {
   "display_name": "Python 3",
   "language": "python",
   "name": "python3"
  },
  "language_info": {
   "codemirror_mode": {
    "name": "ipython",
    "version": 3
   },
   "file_extension": ".py",
   "mimetype": "text/x-python",
   "name": "python",
   "nbconvert_exporter": "python",
   "pygments_lexer": "ipython3",
   "version": "3.11.6"
  },
  "source_map": [
   13
  ]
 },
 "nbformat": 4,
 "nbformat_minor": 5
}