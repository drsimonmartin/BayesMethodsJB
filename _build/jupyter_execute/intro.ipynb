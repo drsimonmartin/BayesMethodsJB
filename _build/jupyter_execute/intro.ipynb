{
 "cells": [
  {
   "cell_type": "markdown",
   "id": "9ee1ed0d",
   "metadata": {},
   "source": [
    "# Introduction to Bayesian Data Analysis\n",
    "\n",
    "This is a small book to give you an introduction to Bayesian data analysis.\n",
    "\n",
    "It does not go in-depth into any particular topic - for more detailed descriptions see the books by Ben Lambert{cite}`lambertStudentGuideBayesian2018` and Richard McElreath {cite}`mcelreathStatisticalRethinkingBayesian2020`.\n",
    "\n",
    "## Chapters\n",
    "```{tableofcontents}\n",
    "```\n",
    "## Bibliography\n",
    "```{bibliography}\n",
    ":filter: docname in docnames\n",
    "```"
   ]
  }
 ],
 "metadata": {
  "jupytext": {
   "text_representation": {
    "extension": ".md",
    "format_name": "myst"
   }
  },
  "kernelspec": {
   "display_name": "Python 3",
   "language": "python",
   "name": "python3"
  },
  "language_info": {
   "codemirror_mode": {
    "name": "ipython",
    "version": 3
   },
   "file_extension": ".py",
   "mimetype": "text/x-python",
   "name": "python",
   "nbconvert_exporter": "python",
   "pygments_lexer": "ipython3",
   "version": "3.11.6"
  },
  "source_map": [
   10
  ]
 },
 "nbformat": 4,
 "nbformat_minor": 5
}