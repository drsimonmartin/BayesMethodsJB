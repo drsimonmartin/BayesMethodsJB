{
 "cells": [
  {
   "cell_type": "markdown",
   "id": "f33505e2-78fb-4446-8e24-936faa0c696a",
   "metadata": {},
   "source": [
    "# Practical Bayesian Data Analysis\n",
    "\n",
    "* Outline need for complicated models + complicated parameter estimates\n",
    "* the curse of dimensionality pt 1: integrating is complicated with many dimensions (parameters)\n",
    "    * Brief intro to MC methods\n",
    "* the curse of dimensionality pt 2: in space no-one can hear your scream\n",
    "    * Brief intro to MCMC methods, mention importance sampling"
   ]
  },
  {
   "cell_type": "markdown",
   "id": "eb6290a7-ff28-4c67-9cff-b10c773bbe2a",
   "metadata": {},
   "source": [
    "## Introduction\n",
    "So far the problems looked at have been fairly abstract in order to show the fundemental  principles of bayesian methods. This chapter explores how to move to realistic calculations. There is a reasonable amount that can be done via algebraic methods. However, the maths rapidly gets reasonably complicated and is only tractable for a limited number of cases (data models). Historically this is one of the things that has held back the development of Bayesian methods. Since the 1990s a range of computer based methods have been developed that from the users' point of view sidestep much of the complex mathematics. This chapter will show how these can be used.\n",
    "\n",
    "For low dimensional problems the calculations could be done with Excel–calculate the product of the prior and likelihood distributions. The book Think Bayes . However, as the dimensionality (number of parameters) increases this becomes impossible and other methods are required. These other methods are most commonly Monte Carlo methods and it is these that we will concentrate on. Specifically we will use the PyMC library a modern python based system allows probabalistic models to be built in a straightforward way using python."
   ]
  },
  {
   "cell_type": "code",
   "execution_count": null,
   "id": "76dc8ba5-963c-4040-ab68-9a86e1d3ee90",
   "metadata": {},
   "outputs": [],
   "source": []
  }
 ],
 "metadata": {
  "kernelspec": {
   "display_name": "Python 3 (ipykernel)",
   "language": "python",
   "name": "python3"
  },
  "language_info": {
   "codemirror_mode": {
    "name": "ipython",
    "version": 3
   },
   "file_extension": ".py",
   "mimetype": "text/x-python",
   "name": "python",
   "nbconvert_exporter": "python",
   "pygments_lexer": "ipython3",
   "version": "3.11.6"
  }
 },
 "nbformat": 4,
 "nbformat_minor": 5
}
