{
 "cells": [
  {
   "cell_type": "markdown",
   "id": "86fc7452-4d9c-43e0-ae5b-9f78b0ba0633",
   "metadata": {},
   "source": [
    "# Getting Bayes Done – Pt 2\n",
    "\n",
    "## Monte Carlo or Bust\n",
    "\n",
    "* Outline need for complicated models + complicated parameter estimates\n",
    "* the curse of dimensionality pt 1: integrating is complicated with many dimensions (parameters)\n",
    "    * Brief intro to MC methods\n",
    "* the curse of dimensionality pt 2: in space no-one can hear your scream\n",
    "    * Brief intro to MCMC methods, mention importance sampling"
   ]
  },
  {
   "cell_type": "code",
   "execution_count": null,
   "id": "e30eebd5-5358-4c1f-a18d-1261a0a55056",
   "metadata": {},
   "outputs": [],
   "source": []
  }
 ],
 "metadata": {
  "kernelspec": {
   "display_name": "Python 3 (ipykernel)",
   "language": "python",
   "name": "python3"
  },
  "language_info": {
   "codemirror_mode": {
    "name": "ipython",
    "version": 3
   },
   "file_extension": ".py",
   "mimetype": "text/x-python",
   "name": "python",
   "nbconvert_exporter": "python",
   "pygments_lexer": "ipython3",
   "version": "3.11.6"
  }
 },
 "nbformat": 4,
 "nbformat_minor": 5
}
