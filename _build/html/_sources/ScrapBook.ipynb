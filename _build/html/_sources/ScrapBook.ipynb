{
 "cells": [
  {
   "cell_type": "markdown",
   "id": "a562d605-9004-48a6-8e17-6104c0b99011",
   "metadata": {},
   "source": [
    "# Why sampling methods are used for Bayesian analysis\n",
    "\n",
    "Recap Bayes theorem: $$P(\\theta|data,I)=\\frac{P(data|\\theta,I)P(\\theta|I)}{P(data|I)}$$\n",
    "\n",
    "where $\\theta$ are the parameters of a model, $data$ are the measurements/results, and $I$ is the information we know about the system.\n",
    "\n",
    "\n",
    "\n",
    "\n",
    "Typically we want to know how well a model fits the data – what sort of spread of values fits the data in a credible way, an idea of the optimum parameters, etc.? To get these results we need the posterior probability distribution ($P(\\theta|data,I)$). This can be used to calculate things such as expectation values, variances, etc. e.g. \n",
    "\n",
    "$$\\mathop{\\mathbb{E}} = \\int \\theta P(\\theta)d\\theta$$\n",
    "\n",
    "For a handful of situations the maths is sufficiently simple that an analytical expression can be \n",
    "\n",
    "\n",
    "the integrals can be evaluated analytically. However, in general most systems are sufficiently complicated that the integration approach is not feesible. In the past this was a significant problem with making Bayesian techniques available.\n",
    "\n",
    "Hopefully you hvae deduced from the length of these notes that there is a way round this. There is: **sampling**. To see how this works we are going to take a slightly sideways look at integration.\n",
    "\n",
    "## rethinking integration\n",
    "We are often introduced to integration as a way of calculating areas under a function. Indeed, methods such as the trapezoid rule etc. explicitly split integrals such as:\n",
    "\n",
    "$$F=\\int^b_af(x)dx$$\n",
    "\n",
    "into areas and summing the areas. Now, did you realise that the value of the integral above is given by the average value of $f(x)$ in the range $a \\rightarrow b$? That is:\n",
    "\n",
    "$$F=\\int^b_af(x)dx=(b-a)<f>=(b-a)\\frac{1}{n}\\sum_{i=1}^{n}f(x_i)$$\n",
    "\n",
    "where $x_i$ are numbers distributed evenly in the range $a\\le x \\le b$ and $n$ is the number of values calculated. The sum term multiplied by We could do this over a set of evenly distributed $x$ values, but very importantly we can also take random, but uniformly distributed, trials in the given range - a so called Monte Carlo process.\n",
    "\n",
    "The Bayesian approaches explored in the \n"
   ]
  },
  {
   "cell_type": "code",
   "execution_count": null,
   "id": "21304ee5-2e82-4d84-b54f-dc2d003f6122",
   "metadata": {},
   "outputs": [],
   "source": []
  }
 ],
 "metadata": {
  "kernelspec": {
   "display_name": "Python 3 (ipykernel)",
   "language": "python",
   "name": "python3"
  },
  "language_info": {
   "codemirror_mode": {
    "name": "ipython",
    "version": 3
   },
   "file_extension": ".py",
   "mimetype": "text/x-python",
   "name": "python",
   "nbconvert_exporter": "python",
   "pygments_lexer": "ipython3",
   "version": "3.11.6"
  }
 },
 "nbformat": 4,
 "nbformat_minor": 5
}
